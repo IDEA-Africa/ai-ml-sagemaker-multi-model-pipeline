{
 "cells": [
  {
   "cell_type": "markdown",
   "id": "2e8df8fe",
   "metadata": {},
   "source": [
    "## Prepare Athena table"
   ]
  },
  {
   "cell_type": "markdown",
   "id": "5c0e1f58",
   "metadata": {},
   "source": [
    "At this point, it is assumed that S3 bucket sagemaker-restate-`<AWS ACCOUNT ID>` is created and raw data has been uploaded to s3://sagemaker-restate-`<AWS ACCOUNT ID>`/raw/russia/."
   ]
  },
  {
   "cell_type": "markdown",
   "id": "82399951",
   "metadata": {},
   "source": [
    "The step below creates a Glue database and table containing the raw data by running a Glue crawler. "
   ]
  },
  {
   "cell_type": "code",
   "execution_count": null,
   "id": "55335a2f",
   "metadata": {},
   "outputs": [],
   "source": [
    "import boto3\n",
    "\n",
    "AWS_ACCOUNT = boto3.client(\"sts\").get_caller_identity()[\"Account\"]\n",
    "\n",
    "BUCKET_NAME = \"sagemaker-restate-{AWS_ACCOUNT}\".format(AWS_ACCOUNT=AWS_ACCOUNT)\n",
    "\n",
    "glue_client = boto3.client('glue')"
   ]
  },
  {
   "cell_type": "code",
   "execution_count": null,
   "id": "797bfc6b",
   "metadata": {},
   "outputs": [],
   "source": [
    "try:\n",
    "    response = glue_client.create_database(\n",
    "        DatabaseInput={\n",
    "            'Name': 'restate'\n",
    "        }\n",
    "    )\n",
    "    print(\"Successfully created database\")\n",
    "except Exception as e:\n",
    "    print('Error in creating database: {ERROR}'.format(ERROR=e))"
   ]
  },
  {
   "cell_type": "code",
   "execution_count": null,
   "id": "18a2dbda",
   "metadata": {},
   "outputs": [],
   "source": [
    "# This assumes the Glue service role name is AWSGlueServiceRole-restate\n",
    "try:\n",
    "    response = glue_client.create_crawler(\n",
    "        Name='restate-russia',\n",
    "        Role='AWSGlueServiceRole-restate',\n",
    "        DatabaseName='restate',\n",
    "        Targets={\n",
    "            'S3Targets': [\n",
    "                {\n",
    "                    'Path': 's3://{BUCKET_NAME}/raw/russia/'.format(BUCKET_NAME=BUCKET_NAME),\n",
    "                }\n",
    "            ]\n",
    "        }\n",
    "    )\n",
    "    print(\"Successfully created crawler\")\n",
    "except Exception as e:\n",
    "    print('Error in creating crawler: {ERROR}'.format(ERROR=e))"
   ]
  },
  {
   "cell_type": "code",
   "execution_count": null,
   "id": "094f93fc",
   "metadata": {},
   "outputs": [],
   "source": [
    "try:\n",
    "    response = glue_client.start_crawler(\n",
    "        Name='restate-russia'\n",
    "    )\n",
    "    print(\"Successfully started crawler\")\n",
    "except Exception as e:\n",
    "    print('Error in starting crawler: {ERROR}'.format(ERROR=e))"
   ]
  },
  {
   "cell_type": "markdown",
   "id": "3b419570",
   "metadata": {},
   "source": [
    "Once crawler is done crawling, table `russia` in database `restate` should be visible in Athena. Now we filter the data for `region = 3870` and we use this in our pipeline. \n",
    "\n",
    "Make sure Athena query result location setting is updated accordingly before proceeding to the next step. "
   ]
  },
  {
   "cell_type": "code",
   "execution_count": null,
   "id": "c427f0d3",
   "metadata": {},
   "outputs": [],
   "source": [
    "query = 'CREATE TABLE restate.russia_3870 AS SELECT * FROM restate.russia where \"region\" = 3870;'\n",
    "DATABASE = 'restate'\n",
    "output='s3://{BUCKET_NAME}/athena'.format(BUCKET_NAME=BUCKET_NAME)\n",
    "\n",
    "athena_client = boto3.client('athena')\n",
    "\n",
    "try:\n",
    "    response = athena_client.start_query_execution(\n",
    "        QueryString=query,\n",
    "        QueryExecutionContext={\n",
    "            'Database': DATABASE\n",
    "        },\n",
    "        ResultConfiguration={\n",
    "            'OutputLocation': output,\n",
    "        }\n",
    "    )\n",
    "except Exception as e:\n",
    "    print('Error running the query: {ERROR}'.format(ERROR=e))\n"
   ]
  },
  {
   "cell_type": "markdown",
   "id": "72401fb7",
   "metadata": {},
   "source": [
    "## Prepare Decision Tree custom Docker image"
   ]
  },
  {
   "cell_type": "markdown",
   "id": "f9843535",
   "metadata": {},
   "source": [
    "We make a  Docker image containing a custom algorithm using [Scikit-learn Decision Tree Regressor](https://scikit-learn.org/stable/modules/generated/sklearn.tree.DecisionTreeRegressor.html#sklearn.tree.DecisionTreeRegressor). Note that the Docker image has been modified to support hyperparameter tuning and validation data. \n",
    "\n"
   ]
  },
  {
   "cell_type": "code",
   "execution_count": null,
   "id": "b1db5773",
   "metadata": {},
   "outputs": [],
   "source": [
    "! sudo yum install docker -y"
   ]
  },
  {
   "cell_type": "code",
   "execution_count": null,
   "id": "3c939efa",
   "metadata": {},
   "outputs": [],
   "source": [
    "%%sh\n",
    "\n",
    "# The name of our algorithm\n",
    "ALGORITHM_NAME=restate-decision-trees\n",
    "\n",
    "cd container\n",
    "\n",
    "chmod +x decision_trees/train\n",
    "chmod +x decision_trees/serve\n",
    "\n",
    "AWS_ACCOUNT=$(aws sts get-caller-identity --query Account --output text)\n",
    "\n",
    "AWS_REGION=$(aws configure get region)\n",
    "\n",
    "IMAGE_FULLNAME=\"${AWS_ACCOUNT}.dkr.ecr.${AWS_REGION}.amazonaws.com/${ALGORITHM_NAME}:latest\"\n",
    "\n",
    "# If the repository doesn't exist in ECR, create it.\n",
    "aws ecr describe-repositories --repository-names \"${ALGORITHM_NAME}\" > /dev/null 2>&1\n",
    "\n",
    "if [ $? -ne 0 ]\n",
    "then\n",
    "    aws ecr create-repository --repository-name \"${ALGORITHM_NAME}\" > /dev/null\n",
    "fi\n",
    "\n",
    "# Get the login command from ECR and execute it directly\n",
    "aws ecr get-login-password --region ${AWS_REGION}|docker login --username AWS --password-stdin ${IMAGE_FULLNAME}\n",
    "\n",
    "# Build the docker image locally with the image name and then push it to ECR\n",
    "# with the full name.\n",
    "\n",
    "docker build  -t ${ALGORITHM_NAME} .\n",
    "docker tag ${ALGORITHM_NAME} ${IMAGE_FULLNAME}\n",
    "docker push ${IMAGE_FULLNAME}\n"
   ]
  },
  {
   "cell_type": "markdown",
   "id": "2b173cbb",
   "metadata": {},
   "source": [
    "Once Docker image is pushed to ECR repository, we make the image accessible from SageMaker. "
   ]
  },
  {
   "cell_type": "code",
   "execution_count": null,
   "id": "76826da4",
   "metadata": {},
   "outputs": [],
   "source": [
    "%%sh\n",
    "\n",
    "# The name of our algorithm\n",
    "SM_IMAGE_NAME=restate-dtree\n",
    "AWS_ACCOUNT=$(aws sts get-caller-identity --query Account --output text)\n",
    "\n",
    "# This assumes the role name is AmazonSageMakerServiceCatalogProductsUseRole-restate\n",
    "ROLE_ARN=\"arn:aws:iam::${AWS_ACCOUNT}:role/AmazonSageMakerServiceCatalogProductsUseRole-restate\"\n",
    "\n",
    "aws sagemaker create-image \\\n",
    "    --image-name ${SM_IMAGE_NAME} \\\n",
    "    --role-arn ${ROLE_ARN}\n"
   ]
  },
  {
   "cell_type": "code",
   "execution_count": null,
   "id": "794342d9",
   "metadata": {},
   "outputs": [],
   "source": [
    "%%sh\n",
    "AWS_ACCOUNT=$(aws sts get-caller-identity --query Account --output text)\n",
    "ALGORITHM_NAME=restate-decision-trees\n",
    "AWS_REGION=$(aws configure get region)\n",
    "SM_IMAGE_NAME=restate-dtree\n",
    "SM_BASE_IMAGE=\"${AWS_ACCOUNT}.dkr.ecr.${AWS_REGION}.amazonaws.com/${ALGORITHM_NAME}:latest\"\n",
    "\n",
    "aws sagemaker create-image-version \\\n",
    "    --image-name ${SM_IMAGE_NAME} \\\n",
    "    --base-image ${SM_BASE_IMAGE}"
   ]
  },
  {
   "cell_type": "markdown",
   "id": "28f8eaef",
   "metadata": {},
   "source": [
    "Make sure to update the version below with the correct one based on the output of the previous step, i.e. `...image-version/restate-dtree/<SM_BASE_IMAGE_VERSION>`."
   ]
  },
  {
   "cell_type": "code",
   "execution_count": null,
   "id": "66b58e8b",
   "metadata": {},
   "outputs": [],
   "source": [
    "%%sh\n",
    "\n",
    "SM_BASE_IMAGE_VERSION=1\n",
    "AWS_ACCOUNT=$(aws sts get-caller-identity --query Account --output text)\n",
    "ALGORITHM_NAME=restate-decision-trees\n",
    "AWS_REGION=$(aws configure get region)\n",
    "SM_IMAGE_NAME=restate-dtree\n",
    "SM_BASE_IMAGE=\"${AWS_ACCOUNT}.dkr.ecr.${AWS_REGION}.amazonaws.com/${ALGORITHM_NAME}:latest\"\n",
    "\n",
    "aws sagemaker describe-image-version \\\n",
    "    --image-name ${SM_IMAGE_NAME} \\\n",
    "    --version ${SM_BASE_IMAGE_VERSION}"
   ]
  },
  {
   "cell_type": "markdown",
   "id": "9b6f1711",
   "metadata": {},
   "source": [
    "## Start the SageMaker pipeline"
   ]
  },
  {
   "cell_type": "code",
   "execution_count": null,
   "id": "05d7cd9e",
   "metadata": {},
   "outputs": [],
   "source": [
    "! pip install sagemaker-pipeline/"
   ]
  },
  {
   "cell_type": "code",
   "execution_count": null,
   "id": "5f507a66",
   "metadata": {},
   "outputs": [],
   "source": [
    "! get-pipeline-definition --help"
   ]
  },
  {
   "cell_type": "markdown",
   "id": "92e4de27",
   "metadata": {},
   "source": [
    "At this point, it is assumed that a SageMaker project with a name `restate` and a pipeline with a name `sagemaker-restate` are already created. "
   ]
  },
  {
   "cell_type": "code",
   "execution_count": null,
   "id": "aa417d1b",
   "metadata": {},
   "outputs": [],
   "source": [
    "%%sh\n",
    "\n",
    "# This assumes the SageMaker pipeline role name is AmazonSageMakerServiceCatalogProductsUseRole-restate\n",
    "\n",
    "AWS_ACCOUNT=$(aws sts get-caller-identity --query Account --output text)\n",
    "AWS_REGION=$(aws configure get region)\n",
    "SAGEMAKER_PROJECT_ARN=\"arn:aws:sagemaker:${AWS_REGION}:${AWS_ACCOUNT}:project/restate\"\n",
    "SAGEMAKER_PROJECT_NAME=restate\n",
    "SAGEMAKER_PIPELINE_ROLE_ARN=\"arn:aws:iam::${AWS_ACCOUNT}:role/AmazonSageMakerServiceCatalogProductsUseRole-restate\"\n",
    "SAGEMAKER_PIPELINE_NAME=sagemaker-restate\n",
    "SAGEMAKER_PROJECT_ID=p-jittopdrswh5\n",
    "ARTIFACT_BUCKET=\"sagemaker-project-${SAGEMAKER_PROJECT_ID}\"\n",
    "SAGEMAKER_PROJECT_NAME_ID=\"${SAGEMAKER_PROJECT_NAME}-${SAGEMAKER_PROJECT_ID}\"\n",
    "\n",
    "run-pipeline --module-name pipelines.restate.pipeline \\\n",
    "  --role-arn $SAGEMAKER_PIPELINE_ROLE_ARN \\\n",
    "  --tags \"[{\\\"Key\\\":\\\"sagemaker:project-name\\\", \\\"Value\\\":\\\"${SAGEMAKER_PROJECT_NAME}\\\"}, {\\\"Key\\\":\\\"sagemaker:project-id\\\", \\\"Value\\\":\\\"${SAGEMAKER_PROJECT_ID}\\\"}]\" \\\n",
    "  --kwargs \"{\\\"region\\\":\\\"${AWS_REGION}\\\",\\\"sagemaker_project_arn\\\":\\\"${SAGEMAKER_PROJECT_ARN}\\\",\\\"role\\\":\\\"${SAGEMAKER_PIPELINE_ROLE_ARN}\\\",\\\"default_bucket\\\":\\\"${ARTIFACT_BUCKET}\\\",\\\"pipeline_name\\\":\\\"${SAGEMAKER_PROJECT_NAME_ID}\\\",\\\"model_package_group_name\\\":\\\"${SAGEMAKER_PROJECT_NAME_ID}\\\",\\\"base_job_prefix\\\":\\\"${SAGEMAKER_PROJECT_NAME_ID}\\\"}\"\n"
   ]
  },
  {
   "cell_type": "markdown",
   "id": "bbec51e8",
   "metadata": {},
   "source": [
    "If you inspect the pipeline, you will see that the XGBoost model performs better than Decision Tree. Therefore, the XGBoost model is registered in the registry."
   ]
  },
  {
   "cell_type": "markdown",
   "id": "aa44a132",
   "metadata": {},
   "source": [
    "You can experiment on the data, e.g. use data for `region=russia_2922`, by changing the Athena query in `pipeline.py`. See if using this data, XGBoost would still be the winning model."
   ]
  },
  {
   "cell_type": "markdown",
   "id": "8f0c2ab1",
   "metadata": {},
   "source": [
    "## Deploy the winning model"
   ]
  },
  {
   "cell_type": "code",
   "execution_count": null,
   "id": "0cdfbbcf",
   "metadata": {},
   "outputs": [],
   "source": [
    "from sagemaker import get_execution_role, session\n",
    "import boto3\n",
    "\n",
    "role = get_execution_role()\n",
    "sm_client = boto3.client('sagemaker')\n",
    "\n",
    "MODEL_VERSION=\"1\"\n",
    "SAGEMAKER_PROJECT_NAME=\"restate\"\n",
    "SAGEMAKER_PROJECT_ID=\"p-jittopdrswh5\"\n",
    "AWS_REGION = boto3.Session().region_name\n",
    "MODEL_PACKAGE_ARN=\"arn:aws:sagemaker:{AWS_REGION}:{AWS_ACCOUNT}:model-package/{SAGEMAKER_PROJECT_NAME}-{SAGEMAKER_PROJECT_ID}/{MODEL_VERSION}\".format(AWS_REGION=AWS_REGION, AWS_ACCOUNT=AWS_ACCOUNT, SAGEMAKER_PROJECT_NAME=SAGEMAKER_PROJECT_NAME,SAGEMAKER_PROJECT_ID=SAGEMAKER_PROJECT_ID,MODEL_VERSION=MODEL_VERSION)\n",
    "                    \n",
    "\n",
    "model_package_update_response = sm_client.update_model_package(\n",
    "    ModelPackageArn=MODEL_PACKAGE_ARN,\n",
    "    ModelApprovalStatus=\"Approved\"\n",
    ")\n"
   ]
  },
  {
   "cell_type": "code",
   "execution_count": null,
   "id": "eda96fec",
   "metadata": {},
   "outputs": [],
   "source": [
    "from time import gmtime, strftime\n",
    "\n",
    "model_name = 'restate-modelregistry-model-' + strftime(\"%Y-%m-%d-%H-%M-%S\", gmtime())\n",
    "print(\"Model name : {}\".format(model_name))\n",
    "container_list = [{'ModelPackageName': MODEL_PACKAGE_ARN}]\n",
    "\n",
    "create_model_response = sm_client.create_model(\n",
    "    ModelName = model_name,\n",
    "    ExecutionRoleArn = role,\n",
    "    Containers = container_list\n",
    ")\n",
    "print(\"Model arn : {}\".format(create_model_response[\"ModelArn\"]))"
   ]
  },
  {
   "cell_type": "code",
   "execution_count": null,
   "id": "7d117352",
   "metadata": {},
   "outputs": [],
   "source": [
    "endpoint_config_name = 'restate-modelregistry-EndpointConfig-' + strftime(\"%Y-%m-%d-%H-%M-%S\", gmtime())\n",
    "print(endpoint_config_name)\n",
    "create_endpoint_config_response = sm_client.create_endpoint_config(\n",
    "    EndpointConfigName = endpoint_config_name,\n",
    "    ProductionVariants=[{\n",
    "        'InstanceType':'ml.m5.large',\n",
    "        'InitialVariantWeight':1,\n",
    "        'InitialInstanceCount':1,\n",
    "        'ModelName':model_name,\n",
    "        'VariantName':'AllTraffic'}])"
   ]
  },
  {
   "cell_type": "code",
   "execution_count": null,
   "id": "2f070ba9",
   "metadata": {},
   "outputs": [],
   "source": [
    "endpoint_name = 'restate-modelregistry-endpoint-' + strftime(\"%Y-%m-%d-%H-%M-%S\", gmtime())\n",
    "print(\"EndpointName={}\".format(endpoint_name))\n",
    "\n",
    "create_endpoint_response = sm_client.create_endpoint(\n",
    "    EndpointName=endpoint_name,\n",
    "    EndpointConfigName=endpoint_config_name)\n",
    "\n",
    "print(create_endpoint_response['EndpointArn'])"
   ]
  },
  {
   "cell_type": "markdown",
   "id": "3fb0156d",
   "metadata": {},
   "source": [
    "Wait for the endpoint to be created. "
   ]
  },
  {
   "cell_type": "markdown",
   "id": "293ab97b",
   "metadata": {},
   "source": [
    "## Inference"
   ]
  },
  {
   "cell_type": "markdown",
   "id": "fcefb17f",
   "metadata": {},
   "source": [
    "Use the following data for inference:\n",
    "\n",
    "`5,2,57.0 ,8.0,2021.0,1.0,24.0,1.0,0.0,1.0,0.0,0.0,0.0,0.0,1.0,0.0`\n",
    "\n",
    "This is a brick building type that is a secondary real estate with 5 levels, 2 rooms, area and kitchen area of 57 sqm and 8 sqm, respectively, in region 3870. This has been published on Jan 24, 2021 and the market value is 3300000 Russian Rubles. \n",
    "\n",
    "Let's see it's predicted value using our generated model. "
   ]
  },
  {
   "cell_type": "code",
   "execution_count": null,
   "id": "87117890",
   "metadata": {},
   "outputs": [],
   "source": [
    "import json \n",
    "\n",
    "sm_runtime= boto3.client('runtime.sagemaker')\n",
    "line = '5,2,57.0 ,8.0,2021.0,1.0,24.0,1.0,0.0,1.0,0.0,0.0,0.0,0.0,1.0,0.0'\n",
    "response = sm_runtime.invoke_endpoint(EndpointName=endpoint_name,\n",
    "    ContentType='text/csv',\n",
    "    Body=line\n",
    ")\n",
    "result = json.loads(response['Body'].read().decode())\n",
    "print(result)\n"
   ]
  },
  {
   "cell_type": "markdown",
   "id": "78c9910c",
   "metadata": {},
   "source": [
    "Now you try:\n",
    "\n",
    "`5,2,43.0,6.0,2021.0,1.0,24.0,1.0,0.0,1.0,0.0,0.0,0.0,0.0,1.0,0.0`\n",
    "\n",
    "This is a brick building type that is a secondary real estate with 5 levels, 2 rooms, area and kitchen area of 43 sqm and 6 sqm, respectively, in region 3870. This has been published on Jan 24, 2021 and the market value is 2450000 Russian Rubles.\n"
   ]
  },
  {
   "cell_type": "markdown",
   "id": "4903f91c",
   "metadata": {},
   "source": [
    "This means that based on our ML model, the above shows the predicated real estate value given the features provided. If the predicated value is less than actual free market value, then this means the real estate may be overvalued. Else, the real estate may be undervalued.  "
   ]
  },
  {
   "cell_type": "markdown",
   "id": "37f4f12b",
   "metadata": {},
   "source": [
    "## Cleanup"
   ]
  },
  {
   "cell_type": "markdown",
   "id": "14ee0e16",
   "metadata": {},
   "source": [
    "Cleanup the Glue database, table, crawler, and S3 buckets used. "
   ]
  },
  {
   "cell_type": "markdown",
   "id": "88515f1b",
   "metadata": {},
   "source": [
    "Cleanup the ECR and SageMaker images created."
   ]
  },
  {
   "cell_type": "markdown",
   "id": "28a757a2",
   "metadata": {},
   "source": [
    "Cleanup the SageMaker model and endpoint resources. "
   ]
  },
  {
   "cell_type": "code",
   "execution_count": null,
   "id": "3ee48326",
   "metadata": {},
   "outputs": [],
   "source": [
    "sm_client.delete_endpoint(EndpointName=endpoint_name)\n",
    "sm_client.delete_endpoint_config(EndpointConfigName=endpoint_config_name)\n",
    "sm_client.delete_model(ModelName=model_name)"
   ]
  }
 ],
 "metadata": {
  "kernelspec": {
   "display_name": "conda_mxnet_latest_p37",
   "language": "python",
   "name": "conda_mxnet_latest_p37"
  },
  "language_info": {
   "codemirror_mode": {
    "name": "ipython",
    "version": 3
   },
   "file_extension": ".py",
   "mimetype": "text/x-python",
   "name": "python",
   "nbconvert_exporter": "python",
   "pygments_lexer": "ipython3",
   "version": "3.7.10"
  }
 },
 "nbformat": 4,
 "nbformat_minor": 5
}
