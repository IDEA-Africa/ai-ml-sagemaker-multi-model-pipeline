{
 "cells": [
  {
   "cell_type": "markdown",
   "id": "35233616",
   "metadata": {},
   "source": [
    "# Multi-model SageMaker Pipeline with Hyperparamater Tuning and Experiments"
   ]
  },
  {
   "cell_type": "markdown",
   "id": "7cc3d9bf",
   "metadata": {},
   "source": [
    "Before proceeding, please see context of this notebook in [README.md](README.md). This notebook has been tested in a SageMaker notebook that is using a kernel with Python 3.7 installed, e.g. conda_mxnet_latest_p37, conda_python3. Make sure you have created a SageMaker project outside of this notebook with the name `diabetes`. Recommendation is to create a SageMaker project using [SageMaker-provide MLOps template for model building, training, and deployment template](https://docs.aws.amazon.com/sagemaker/latest/dg/sagemaker-projects-templates-sm.html#sagemaker-projects-templates-code-commit). Note that this notebook will not create the SageMaker project for you. \n"
   ]
  },
  {
   "cell_type": "markdown",
   "id": "df41d8a3",
   "metadata": {},
   "source": [
    "## Prepare the raw data"
   ]
  },
  {
   "cell_type": "markdown",
   "id": "bc5512ea",
   "metadata": {},
   "source": [
    "We create an S3 bucket and with encryption enabled for additional security. "
   ]
  },
  {
   "cell_type": "code",
   "execution_count": null,
   "id": "62163043",
   "metadata": {},
   "outputs": [],
   "source": [
    "#TODO: maybe convert this to AWS CLI\n",
    "\n",
    "import boto3\n",
    "\n",
    "AWS_ACCOUNT = boto3.client(\"sts\").get_caller_identity()[\"Account\"]\n",
    "AWS_REGION = boto3.Session().region_name\n",
    "BUCKET_NAME = \"sagemaker-diabetes-{AWS_ACCOUNT}\".format(AWS_ACCOUNT=AWS_ACCOUNT)\n",
    "\n",
    "s3_client = boto3.client(\"s3\")\n",
    "location = {\"LocationConstraint\": AWS_REGION}\n",
    "s3_client.create_bucket(Bucket=BUCKET_NAME, CreateBucketConfiguration=location)\n",
    "s3_client.put_bucket_encryption(\n",
    "    Bucket=BUCKET_NAME,\n",
    "    ServerSideEncryptionConfiguration={\n",
    "        \"Rules\": [\n",
    "            {\n",
    "                \"ApplyServerSideEncryptionByDefault\": {\"SSEAlgorithm\": \"AES256\"},\n",
    "            },\n",
    "        ]\n",
    "    },\n",
    ")"
   ]
  },
  {
   "cell_type": "code",
   "execution_count": null,
   "id": "d9f9bfd6",
   "metadata": {},
   "outputs": [],
   "source": [
    "%%sh\n",
    "\n",
    "AWS_ACCOUNT=$(aws sts get-caller-identity --query Account --output text)\n",
    "BUCKET_NAME=\"sagemaker-diabetes-${AWS_ACCOUNT}\"\n",
    "\n",
    "wget https://archive.ics.uci.edu/ml/machine-learning-databases/00296/dataset_diabetes.zip\n",
    "unzip dataset_diabetes.zip\n",
    "aws s3 cp dataset_diabetes/diabetic_data.csv s3://${BUCKET_NAME}/\n",
    "    "
   ]
  },
  {
   "cell_type": "code",
   "execution_count": null,
   "id": "d0f5e4bd",
   "metadata": {},
   "outputs": [],
   "source": [
    "import json\n",
    "\n",
    "iam_client = boto3.client(\"iam\")\n",
    "\n",
    "sagemaker_assume_role_policy_document = json.dumps(\n",
    "    {\n",
    "        \"Version\": \"2012-10-17\",\n",
    "        \"Statement\": [\n",
    "            {\n",
    "                \"Effect\": \"Allow\",\n",
    "                \"Principal\": {\"Service\": \"sagemaker.amazonaws.com\"},\n",
    "                \"Action\": \"sts:AssumeRole\",\n",
    "            }\n",
    "        ],\n",
    "    }\n",
    ")\n",
    "\n",
    "response = iam_client.create_role(\n",
    "    RoleName=\"AmazonSageMakerServiceCatalogProductsUseRole-diabetes\",\n",
    "    AssumeRolePolicyDocument=sagemaker_assume_role_policy_document,\n",
    ")\n",
    "\n",
    "iam_client.attach_role_policy(\n",
    "    RoleName=response[\"Role\"][\"RoleName\"],\n",
    "    PolicyArn=\"arn:aws:iam::aws:policy/AmazonSageMakerFullAccess\",\n",
    ")"
   ]
  },
  {
   "cell_type": "markdown",
   "id": "b0587db2",
   "metadata": {},
   "source": [
    "## Prepare the Decision Tree custom Docker image"
   ]
  },
  {
   "cell_type": "markdown",
   "id": "e05513c6",
   "metadata": {},
   "source": [
    "We make a  Docker image containing a custom algorithm using [Scikit-learn Decision Tree Regressor](https://scikit-learn.org/stable/modules/generated/sklearn.tree.DecisionTreeRegressor.html#sklearn.tree.DecisionTreeRegressor). Note that the Docker image has been modified to support hyperparameter tuning and validation data. \n",
    "\n"
   ]
  },
  {
   "cell_type": "code",
   "execution_count": null,
   "id": "30e54815",
   "metadata": {},
   "outputs": [],
   "source": [
    "! sudo yum install docker -y"
   ]
  },
  {
   "cell_type": "code",
   "execution_count": null,
   "id": "da5d70b4",
   "metadata": {},
   "outputs": [],
   "source": [
    "%%sh\n",
    "\n",
    "# The name of our algorithm\n",
    "ALGORITHM_NAME=diabetes-decision-trees\n",
    "\n",
    "cd container\n",
    "\n",
    "chmod +x decision_trees/train\n",
    "chmod +x decision_trees/serve\n",
    "\n",
    "AWS_ACCOUNT=$(aws sts get-caller-identity --query Account --output text)\n",
    "AWS_REGION=$(aws configure get region)\n",
    "\n",
    "IMAGE_FULLNAME=\"${AWS_ACCOUNT}.dkr.ecr.${AWS_REGION}.amazonaws.com/${ALGORITHM_NAME}:latest\"\n",
    "\n",
    "# If the repository doesn't exist in ECR, create it.\n",
    "aws ecr describe-repositories --repository-names \"${ALGORITHM_NAME}\" > /dev/null 2>&1\n",
    "\n",
    "if [ $? -ne 0 ]\n",
    "then\n",
    "    aws ecr create-repository --repository-name \"${ALGORITHM_NAME}\" > /dev/null\n",
    "fi\n",
    "\n",
    "# Get the login command from ECR and execute it directly\n",
    "aws ecr get-login-password --region ${AWS_REGION}|docker login --username AWS --password-stdin ${IMAGE_FULLNAME}\n",
    "\n",
    "# Build the docker image locally with the image name and then push it to ECR\n",
    "# with the full name.\n",
    "\n",
    "docker build  -t ${ALGORITHM_NAME} .\n",
    "docker tag ${ALGORITHM_NAME} ${IMAGE_FULLNAME}\n",
    "docker push ${IMAGE_FULLNAME}\n"
   ]
  },
  {
   "cell_type": "markdown",
   "id": "4433e223",
   "metadata": {},
   "source": [
    "Once Docker image is pushed to ECR repository, we make the image accessible from SageMaker. "
   ]
  },
  {
   "cell_type": "code",
   "execution_count": null,
   "id": "12e0c75c",
   "metadata": {},
   "outputs": [],
   "source": [
    "%%sh\n",
    "\n",
    "# The name of our algorithm\n",
    "SM_IMAGE_NAME=diabetes-dtree\n",
    "AWS_ACCOUNT=$(aws sts get-caller-identity --query Account --output text)\n",
    "\n",
    "# This assumes the role name is AmazonSageMakerServiceCatalogProductsUseRole-diabetes\n",
    "ROLE_ARN=\"arn:aws:iam::${AWS_ACCOUNT}:role/AmazonSageMakerServiceCatalogProductsUseRole-diabetes\"\n",
    "\n",
    "aws sagemaker create-image \\\n",
    "    --image-name ${SM_IMAGE_NAME} \\\n",
    "    --role-arn ${ROLE_ARN}\n"
   ]
  },
  {
   "cell_type": "code",
   "execution_count": null,
   "id": "952b69ec",
   "metadata": {},
   "outputs": [],
   "source": [
    "%%sh\n",
    "AWS_ACCOUNT=$(aws sts get-caller-identity --query Account --output text)\n",
    "ALGORITHM_NAME=diabetes-decision-trees\n",
    "AWS_REGION=$(aws configure get region)\n",
    "SM_IMAGE_NAME=diabetes-dtree\n",
    "SM_BASE_IMAGE=\"${AWS_ACCOUNT}.dkr.ecr.${AWS_REGION}.amazonaws.com/${ALGORITHM_NAME}:latest\"\n",
    "\n",
    "aws sagemaker create-image-version \\\n",
    "    --image-name ${SM_IMAGE_NAME} \\\n",
    "    --base-image ${SM_BASE_IMAGE}"
   ]
  },
  {
   "cell_type": "markdown",
   "id": "814fc95f",
   "metadata": {},
   "source": [
    "## Run the SageMaker pipeline"
   ]
  },
  {
   "cell_type": "code",
   "execution_count": null,
   "id": "7affe485",
   "metadata": {},
   "outputs": [],
   "source": [
    "%%sh\n",
    "SAGEMAKER_PROJECT_NAME=diabetes\n",
    "AWS_REGION=$(aws configure get region)\n",
    "SAGEMAKER_PROJECT_ID=$(aws sagemaker describe-project --project-name ${SAGEMAKER_PROJECT_NAME} --query 'ProjectId' | tr -d '\"')\n",
    "SAGEMAKER_PROJECT_REPO=\"sagemaker-${SAGEMAKER_PROJECT_NAME}-${SAGEMAKER_PROJECT_ID}-modelbuild\"\n",
    "\n",
    "rm -rf ~/${SAGEMAKER_PROJECT_REPO}/\n",
    "git clone https://git-codecommit.${AWS_REGION}.amazonaws.com/v1/repos/${SAGEMAKER_PROJECT_REPO} ~/${SAGEMAKER_PROJECT_REPO}\n",
    "rsync -a sagemaker-pipeline/ ~/${SAGEMAKER_PROJECT_REPO}/ && rm -rf ~/${SAGEMAKER_PROJECT_REPO}/pipelines/abalone/ ~/${SAGEMAKER_PROJECT_REPO}/build/\n",
    "cd ~/${SAGEMAKER_PROJECT_REPO}/ && git config --global user.name \"name\" && git config --global user.email name@email.com && git config advice.addIgnoredFile false && git add --all && git commit -am \"initial commit\" && git push origin main \n",
    "\n"
   ]
  },
  {
   "cell_type": "markdown",
   "id": "3b62b4e1",
   "metadata": {},
   "source": [
    "The commit should trigger a pipeline run. Proceed to monitor your pipeline run until completion in SageMaker Studio. "
   ]
  },
  {
   "cell_type": "markdown",
   "id": "239e72f9",
   "metadata": {},
   "source": [
    "If you inspect the pipeline, you will see that the XGBoost model performs better than Decision Tree. Therefore, the XGBoost model is registered in the model registry."
   ]
  },
  {
   "cell_type": "markdown",
   "id": "63d3c3ea",
   "metadata": {},
   "source": [
    "## Approve the model in the registry"
   ]
  },
  {
   "cell_type": "markdown",
   "id": "287879ee",
   "metadata": {},
   "source": [
    "Make sure to update your desired `MODEL_VERSION`. We assume we approve the model version 1. "
   ]
  },
  {
   "cell_type": "code",
   "execution_count": null,
   "id": "214fd1bd",
   "metadata": {},
   "outputs": [],
   "source": [
    "from sagemaker import get_execution_role, session\n",
    "import boto3\n",
    "\n",
    "role = get_execution_role()\n",
    "sm_client = boto3.client(\"sagemaker\")\n",
    "\n",
    "MODEL_VERSION = \"2\"\n",
    "SAGEMAKER_PROJECT_NAME = \"diabetes\"\n",
    "SAGEMAKER_PROJECT_ID = sm_client.describe_project(ProjectName=SAGEMAKER_PROJECT_NAME)[\"ProjectId\"]\n",
    "AWS_REGION = boto3.Session().region_name\n",
    "MODEL_PACKAGE_ARN = \"arn:aws:sagemaker:{AWS_REGION}:{AWS_ACCOUNT}:model-package/{SAGEMAKER_PROJECT_NAME}-{SAGEMAKER_PROJECT_ID}/{MODEL_VERSION}\".format(\n",
    "    AWS_REGION=AWS_REGION,\n",
    "    AWS_ACCOUNT=AWS_ACCOUNT,\n",
    "    SAGEMAKER_PROJECT_NAME=SAGEMAKER_PROJECT_NAME,\n",
    "    SAGEMAKER_PROJECT_ID=SAGEMAKER_PROJECT_ID,\n",
    "    MODEL_VERSION=MODEL_VERSION,\n",
    ")\n",
    "\n",
    "\n",
    "model_package_update_response = sm_client.update_model_package(\n",
    "    ModelPackageArn=MODEL_PACKAGE_ARN, ModelApprovalStatus=\"Approved\"\n",
    ")"
   ]
  },
  {
   "cell_type": "markdown",
   "id": "da45f802",
   "metadata": {},
   "source": [
    "At this point, you can deploy the approved model version by going through the steps below, or using [MLOps template for model deployment](https://docs.aws.amazon.com/sagemaker/latest/dg/sagemaker-projects-templates-sm.html#sagemaker-projects-templates-code-commit)."
   ]
  },
  {
   "cell_type": "markdown",
   "id": "3a37d539",
   "metadata": {},
   "source": [
    "## Perform inference"
   ]
  },
  {
   "cell_type": "markdown",
   "id": "0c0e77e2",
   "metadata": {},
   "source": [
    "Use the following data for inference:\n",
    "\n",
    "`5.0,64.0,0.0,18.0,0.0,0.0,7.0,9.0,1.0,0.0,0.0,0.0,0.0,0.0,1.0,0.0,0.0,0.0,1.0,0.0,0.0,0.0,0.0,0.0,0.0,0.0,0.0,0.0,1.0,0.0,0.0,0.0,0.0,0.0,0.0,0.0,0.0,0.0,0.0,0.0,0.0,1.0,0.0,0.0,0.0,0.0,0.0,0.0,1.0,0.0,0.0,0.0,0.0,0.0,0.0,0.0,0.0,1.0,0.0,0.0,0.0,1.0,0.0,0.0,0.0,1.0,0.0,0.0,0.0,1.0,0.0,0.0,0.0,1.0,0.0,0.0,0.0,1.0,0.0,0.0,0.0,0.0,1.0,0.0,0.0,1.0,0.0,1.0,0.0,1.0,0.0,0.0,0.0,0.0,0.0,1.0,0.0,0.0,0.0,0.0,0.0,0.0,1.0,0.0,0.0,0.0,0.0,0.0,0.0\n",
    "`\n",
    "\n",
    "In summary, this is a diabetic patient that is Caucasian Female age 60-70, who has spent 5 days in the hospital under emergency care in the current encounter. Prior to this encounter, patient has spent 0 days in outpatient care, 0 days in emergency care, 7 days in inpatient care. 64 laboratory procedures have been performed on the patient. Patient is not using metformin, repaglinide, pioglitazone, rosiglitazone, and insulin prescription is steady.\n",
    "\n"
   ]
  },
  {
   "cell_type": "code",
   "execution_count": null,
   "id": "839eaa1a",
   "metadata": {},
   "outputs": [],
   "source": [
    "import json\n",
    "import boto3\n",
    "\n",
    "sm_runtime = boto3.client(\"runtime.sagemaker\")\n",
    "endpoint_name =\"diabetes-staging\"\n",
    "line = \"5.0,64.0,0.0,18.0,0.0,0.0,7.0,9.0,1.0,0.0,0.0,0.0,0.0,0.0,1.0,0.0,0.0,0.0,1.0,0.0,0.0,0.0,0.0,0.0,0.0,0.0,0.0,0.0,1.0,0.0,0.0,0.0,0.0,0.0,0.0,0.0,0.0,0.0,0.0,0.0,0.0,1.0,0.0,0.0,0.0,0.0,0.0,0.0,1.0,0.0,0.0,0.0,0.0,0.0,0.0,0.0,0.0,1.0,0.0,0.0,0.0,1.0,0.0,0.0,0.0,1.0,0.0,0.0,0.0,1.0,0.0,0.0,0.0,1.0,0.0,0.0,0.0,1.0,0.0,0.0,0.0,0.0,1.0,0.0,0.0,1.0,0.0,1.0,0.0,1.0,0.0,0.0,0.0,0.0,0.0,1.0,0.0,0.0,0.0,0.0,0.0,0.0,1.0,0.0,0.0,0.0,0.0,0.0,0.0\"\n",
    "response = sm_runtime.invoke_endpoint(EndpointName=endpoint_name, ContentType=\"text/csv\", Body=line)\n",
    "result = json.loads(response[\"Body\"].read().decode())\n",
    "print(\"Predicted class : {}\".format(round(result)))"
   ]
  },
  {
   "cell_type": "markdown",
   "id": "dcf898ef",
   "metadata": {},
   "source": [
    "Now you try:\n",
    "\n",
    "`3.0,19.0,3.0,19.0,0.0,0.0,0.0,8.0,1.0,0.0,0.0,0.0,0.0,0.0,1.0,0.0,0.0,1.0,0.0,0.0,0.0,0.0,0.0,0.0,0.0,0.0,0.0,0.0,0.0,0.0,0.0,0.0,0.0,0.0,1.0,0.0,0.0,0.0,0.0,0.0,0.0,0.0,0.0,0.0,1.0,0.0,0.0,1.0,0.0,0.0,0.0,0.0,0.0,0.0,0.0,0.0,0.0,1.0,0.0,0.0,0.0,1.0,0.0,0.0,0.0,1.0,0.0,0.0,0.0,1.0,0.0,0.0,0.0,1.0,0.0,0.0,0.0,1.0,0.0,0.0,0.0,1.0,0.0,0.0,0.0,1.0,0.0,0.0,1.0,0.0,1.0,0.0,0.0,0.0,0.0,1.0,0.0,0.0,0.0,0.0,0.0,0.0,0.0,1.0,0.0,0.0,0.0,0.0,0.0\n",
    "`\n",
    "\n",
    "In summary, this is a dibetic patient that is Caucasian Female age 70-80, who has spent 3 days in the hospital under elective care in the current encounter. Prior to this encounter, patient has spent 0 days in outpatient care, 0 days in emergency care, 0 days in inpatient care. 19 laboratory procedures have been performed on the patient. Patient is not using metformin, repaglinide, pioglitazone, rosiglitazone. Patient is not using insulin. "
   ]
  },
  {
   "cell_type": "markdown",
   "id": "fc68c3c7",
   "metadata": {},
   "source": [
    "## Cleanup"
   ]
  },
  {
   "cell_type": "markdown",
   "id": "0371286d",
   "metadata": {},
   "source": [
    "To avoid incurring future charges, clean up created resources such as the S3 bucket, ECR repository, and SageMaker Studio. Prior to deleting the SageMaker Studio, make sure to delete the SageMaker model and endpoint resources, delete the entire SageMaker project diabetes, as well as its peripheral resources CodePipeline pipelines and CodeCommit repositories.\n",
    "Finally, delete the Jupyter instance containing the notebook. "
   ]
  }
 ],
 "metadata": {
  "kernelspec": {
   "display_name": "conda_python3",
   "language": "python",
   "name": "conda_python3"
  },
  "language_info": {
   "codemirror_mode": {
    "name": "ipython",
    "version": 3
   },
   "file_extension": ".py",
   "mimetype": "text/x-python",
   "name": "python",
   "nbconvert_exporter": "python",
   "pygments_lexer": "ipython3",
   "version": "3.8.12"
  }
 },
 "nbformat": 4,
 "nbformat_minor": 5
}
